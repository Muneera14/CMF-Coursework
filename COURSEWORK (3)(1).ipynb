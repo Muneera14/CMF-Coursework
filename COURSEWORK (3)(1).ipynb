{
 "cells": [
  {
   "cell_type": "markdown",
   "id": "4bc56c55",
   "metadata": {},
   "source": [
    "# CMF assessment "
   ]
  },
  {
   "cell_type": "code",
   "execution_count": 3,
   "id": "4927414a",
   "metadata": {},
   "outputs": [
    {
     "name": "stdout",
     "output_type": "stream",
     "text": [
      "Collecting yfinance\n",
      "  Downloading yfinance-0.1.67-py2.py3-none-any.whl (25 kB)\n",
      "Requirement already satisfied: pandas in c:\\users\\dell\\anaconda3\\lib\\site-packages (1.3.4)\n",
      "Requirement already satisfied: matplotlib in c:\\users\\dell\\anaconda3\\lib\\site-packages (3.4.3)\n",
      "Requirement already satisfied: numpy in c:\\users\\dell\\anaconda3\\lib\\site-packages (1.20.3)\n",
      "Requirement already satisfied: requests>=2.20 in c:\\users\\dell\\anaconda3\\lib\\site-packages (from yfinance) (2.26.0)\n",
      "Collecting multitasking>=0.0.7\n",
      "  Downloading multitasking-0.0.10.tar.gz (8.2 kB)\n",
      "Requirement already satisfied: lxml>=4.5.1 in c:\\users\\dell\\anaconda3\\lib\\site-packages (from yfinance) (4.6.3)\n",
      "Requirement already satisfied: python-dateutil>=2.7.3 in c:\\users\\dell\\anaconda3\\lib\\site-packages (from pandas) (2.8.2)\n",
      "Requirement already satisfied: pytz>=2017.3 in c:\\users\\dell\\anaconda3\\lib\\site-packages (from pandas) (2021.3)\n",
      "Requirement already satisfied: kiwisolver>=1.0.1 in c:\\users\\dell\\anaconda3\\lib\\site-packages (from matplotlib) (1.3.1)\n",
      "Requirement already satisfied: cycler>=0.10 in c:\\users\\dell\\anaconda3\\lib\\site-packages (from matplotlib) (0.10.0)\n",
      "Requirement already satisfied: pillow>=6.2.0 in c:\\users\\dell\\anaconda3\\lib\\site-packages (from matplotlib) (8.4.0)\n",
      "Requirement already satisfied: pyparsing>=2.2.1 in c:\\users\\dell\\anaconda3\\lib\\site-packages (from matplotlib) (3.0.4)\n",
      "Requirement already satisfied: six in c:\\users\\dell\\anaconda3\\lib\\site-packages (from cycler>=0.10->matplotlib) (1.16.0)\n",
      "Requirement already satisfied: idna<4,>=2.5 in c:\\users\\dell\\anaconda3\\lib\\site-packages (from requests>=2.20->yfinance) (3.2)\n",
      "Requirement already satisfied: charset-normalizer~=2.0.0 in c:\\users\\dell\\anaconda3\\lib\\site-packages (from requests>=2.20->yfinance) (2.0.4)\n",
      "Requirement already satisfied: urllib3<1.27,>=1.21.1 in c:\\users\\dell\\anaconda3\\lib\\site-packages (from requests>=2.20->yfinance) (1.26.7)\n",
      "Requirement already satisfied: certifi>=2017.4.17 in c:\\users\\dell\\anaconda3\\lib\\site-packages (from requests>=2.20->yfinance) (2021.10.8)\n",
      "Building wheels for collected packages: multitasking\n",
      "  Building wheel for multitasking (setup.py): started\n",
      "  Building wheel for multitasking (setup.py): finished with status 'done'\n",
      "  Created wheel for multitasking: filename=multitasking-0.0.10-py3-none-any.whl size=8500 sha256=6ccc7d20f5cd15ea9fc66144baeba01b6bc31b49ae5edc18305bb675b11d90e2\n",
      "  Stored in directory: c:\\users\\dell\\appdata\\local\\pip\\cache\\wheels\\f2\\b5\\2c\\59ba95dcf854e542944c75fe3da584e4e3833b319735a0546c\n",
      "Successfully built multitasking\n",
      "Installing collected packages: multitasking, yfinance\n",
      "Successfully installed multitasking-0.0.10 yfinance-0.1.67\n",
      "Note: you may need to restart the kernel to use updated packages.\n"
     ]
    }
   ],
   "source": [
    "pip install yfinance pandas matplotlib numpy "
   ]
  },
  {
   "cell_type": "code",
   "execution_count": 2,
   "id": "a4da3355",
   "metadata": {
    "scrolled": true
   },
   "outputs": [],
   "source": [
    "import yfinance as yf\n",
    "import numpy as np\n",
    "import pandas as pd\n",
    "import matplotlib as mpl\n",
    "import matplotlib.pyplot as plt"
   ]
  },
  {
   "cell_type": "code",
   "execution_count": 4,
   "id": "c9461d60",
   "metadata": {},
   "outputs": [
    {
     "name": "stdout",
     "output_type": "stream",
     "text": [
      "[*********************100%***********************]  2 of 2 completed\n"
     ]
    }
   ],
   "source": [
    "initial_data = yf.download (\"JNJ ^VIX\", start=\"2020-11-01\", end=\"2021-11-01\")"
   ]
  },
  {
   "cell_type": "code",
   "execution_count": 5,
   "id": "73626a18",
   "metadata": {},
   "outputs": [
    {
     "data": {
      "text/html": [
       "<div>\n",
       "<style scoped>\n",
       "    .dataframe tbody tr th:only-of-type {\n",
       "        vertical-align: middle;\n",
       "    }\n",
       "\n",
       "    .dataframe tbody tr th {\n",
       "        vertical-align: top;\n",
       "    }\n",
       "\n",
       "    .dataframe thead tr th {\n",
       "        text-align: left;\n",
       "    }\n",
       "\n",
       "    .dataframe thead tr:last-of-type th {\n",
       "        text-align: right;\n",
       "    }\n",
       "</style>\n",
       "<table border=\"1\" class=\"dataframe\">\n",
       "  <thead>\n",
       "    <tr>\n",
       "      <th></th>\n",
       "      <th colspan=\"2\" halign=\"left\">Adj Close</th>\n",
       "      <th colspan=\"2\" halign=\"left\">Close</th>\n",
       "      <th colspan=\"2\" halign=\"left\">High</th>\n",
       "      <th colspan=\"2\" halign=\"left\">Low</th>\n",
       "      <th colspan=\"2\" halign=\"left\">Open</th>\n",
       "      <th colspan=\"2\" halign=\"left\">Volume</th>\n",
       "    </tr>\n",
       "    <tr>\n",
       "      <th></th>\n",
       "      <th>JNJ</th>\n",
       "      <th>^VIX</th>\n",
       "      <th>JNJ</th>\n",
       "      <th>^VIX</th>\n",
       "      <th>JNJ</th>\n",
       "      <th>^VIX</th>\n",
       "      <th>JNJ</th>\n",
       "      <th>^VIX</th>\n",
       "      <th>JNJ</th>\n",
       "      <th>^VIX</th>\n",
       "      <th>JNJ</th>\n",
       "      <th>^VIX</th>\n",
       "    </tr>\n",
       "    <tr>\n",
       "      <th>Date</th>\n",
       "      <th></th>\n",
       "      <th></th>\n",
       "      <th></th>\n",
       "      <th></th>\n",
       "      <th></th>\n",
       "      <th></th>\n",
       "      <th></th>\n",
       "      <th></th>\n",
       "      <th></th>\n",
       "      <th></th>\n",
       "      <th></th>\n",
       "      <th></th>\n",
       "    </tr>\n",
       "  </thead>\n",
       "  <tbody>\n",
       "    <tr>\n",
       "      <th>2020-11-02</th>\n",
       "      <td>134.347153</td>\n",
       "      <td>37.130001</td>\n",
       "      <td>138.690002</td>\n",
       "      <td>37.130001</td>\n",
       "      <td>139.009995</td>\n",
       "      <td>38.779999</td>\n",
       "      <td>137.490005</td>\n",
       "      <td>36.130001</td>\n",
       "      <td>138.979996</td>\n",
       "      <td>38.570000</td>\n",
       "      <td>7088000</td>\n",
       "      <td>0</td>\n",
       "    </tr>\n",
       "    <tr>\n",
       "      <th>2020-11-03</th>\n",
       "      <td>134.163101</td>\n",
       "      <td>35.549999</td>\n",
       "      <td>138.500000</td>\n",
       "      <td>35.549999</td>\n",
       "      <td>140.960007</td>\n",
       "      <td>36.439999</td>\n",
       "      <td>137.779999</td>\n",
       "      <td>34.189999</td>\n",
       "      <td>140.020004</td>\n",
       "      <td>36.439999</td>\n",
       "      <td>6363000</td>\n",
       "      <td>0</td>\n",
       "    </tr>\n",
       "    <tr>\n",
       "      <th>2020-11-04</th>\n",
       "      <td>135.034927</td>\n",
       "      <td>29.570000</td>\n",
       "      <td>139.399994</td>\n",
       "      <td>29.570000</td>\n",
       "      <td>142.539993</td>\n",
       "      <td>36.849998</td>\n",
       "      <td>138.699997</td>\n",
       "      <td>28.030001</td>\n",
       "      <td>139.490005</td>\n",
       "      <td>36.790001</td>\n",
       "      <td>10263500</td>\n",
       "      <td>0</td>\n",
       "    </tr>\n",
       "    <tr>\n",
       "      <th>2020-11-05</th>\n",
       "      <td>135.383636</td>\n",
       "      <td>27.580000</td>\n",
       "      <td>139.759995</td>\n",
       "      <td>27.580000</td>\n",
       "      <td>141.830002</td>\n",
       "      <td>28.139999</td>\n",
       "      <td>139.259995</td>\n",
       "      <td>26.040001</td>\n",
       "      <td>140.550003</td>\n",
       "      <td>27.559999</td>\n",
       "      <td>8016200</td>\n",
       "      <td>0</td>\n",
       "    </tr>\n",
       "    <tr>\n",
       "      <th>2020-11-06</th>\n",
       "      <td>137.795670</td>\n",
       "      <td>24.860001</td>\n",
       "      <td>142.250000</td>\n",
       "      <td>24.860001</td>\n",
       "      <td>143.190002</td>\n",
       "      <td>29.440001</td>\n",
       "      <td>139.649994</td>\n",
       "      <td>24.559999</td>\n",
       "      <td>140.399994</td>\n",
       "      <td>27.870001</td>\n",
       "      <td>5942500</td>\n",
       "      <td>0</td>\n",
       "    </tr>\n",
       "  </tbody>\n",
       "</table>\n",
       "</div>"
      ],
      "text/plain": [
       "             Adj Close                  Close                   High  \\\n",
       "                   JNJ       ^VIX         JNJ       ^VIX         JNJ   \n",
       "Date                                                                   \n",
       "2020-11-02  134.347153  37.130001  138.690002  37.130001  139.009995   \n",
       "2020-11-03  134.163101  35.549999  138.500000  35.549999  140.960007   \n",
       "2020-11-04  135.034927  29.570000  139.399994  29.570000  142.539993   \n",
       "2020-11-05  135.383636  27.580000  139.759995  27.580000  141.830002   \n",
       "2020-11-06  137.795670  24.860001  142.250000  24.860001  143.190002   \n",
       "\n",
       "                              Low                   Open               Volume  \\\n",
       "                 ^VIX         JNJ       ^VIX         JNJ       ^VIX       JNJ   \n",
       "Date                                                                            \n",
       "2020-11-02  38.779999  137.490005  36.130001  138.979996  38.570000   7088000   \n",
       "2020-11-03  36.439999  137.779999  34.189999  140.020004  36.439999   6363000   \n",
       "2020-11-04  36.849998  138.699997  28.030001  139.490005  36.790001  10263500   \n",
       "2020-11-05  28.139999  139.259995  26.040001  140.550003  27.559999   8016200   \n",
       "2020-11-06  29.440001  139.649994  24.559999  140.399994  27.870001   5942500   \n",
       "\n",
       "                 \n",
       "           ^VIX  \n",
       "Date             \n",
       "2020-11-02    0  \n",
       "2020-11-03    0  \n",
       "2020-11-04    0  \n",
       "2020-11-05    0  \n",
       "2020-11-06    0  "
      ]
     },
     "execution_count": 5,
     "metadata": {},
     "output_type": "execute_result"
    }
   ],
   "source": [
    "initial_data.head()"
   ]
  },
  {
   "cell_type": "code",
   "execution_count": 6,
   "id": "0562a301",
   "metadata": {},
   "outputs": [
    {
     "data": {
      "text/html": [
       "<div>\n",
       "<style scoped>\n",
       "    .dataframe tbody tr th:only-of-type {\n",
       "        vertical-align: middle;\n",
       "    }\n",
       "\n",
       "    .dataframe tbody tr th {\n",
       "        vertical-align: top;\n",
       "    }\n",
       "\n",
       "    .dataframe thead th {\n",
       "        text-align: right;\n",
       "    }\n",
       "</style>\n",
       "<table border=\"1\" class=\"dataframe\">\n",
       "  <thead>\n",
       "    <tr style=\"text-align: right;\">\n",
       "      <th></th>\n",
       "      <th>JNJ</th>\n",
       "      <th>^VIX</th>\n",
       "    </tr>\n",
       "    <tr>\n",
       "      <th>Date</th>\n",
       "      <th></th>\n",
       "      <th></th>\n",
       "    </tr>\n",
       "  </thead>\n",
       "  <tbody>\n",
       "    <tr>\n",
       "      <th>2020-11-02</th>\n",
       "      <td>134.347153</td>\n",
       "      <td>37.130001</td>\n",
       "    </tr>\n",
       "    <tr>\n",
       "      <th>2020-11-03</th>\n",
       "      <td>134.163101</td>\n",
       "      <td>35.549999</td>\n",
       "    </tr>\n",
       "    <tr>\n",
       "      <th>2020-11-04</th>\n",
       "      <td>135.034927</td>\n",
       "      <td>29.570000</td>\n",
       "    </tr>\n",
       "    <tr>\n",
       "      <th>2020-11-05</th>\n",
       "      <td>135.383636</td>\n",
       "      <td>27.580000</td>\n",
       "    </tr>\n",
       "    <tr>\n",
       "      <th>2020-11-06</th>\n",
       "      <td>137.795670</td>\n",
       "      <td>24.860001</td>\n",
       "    </tr>\n",
       "  </tbody>\n",
       "</table>\n",
       "</div>"
      ],
      "text/plain": [
       "                   JNJ       ^VIX\n",
       "Date                             \n",
       "2020-11-02  134.347153  37.130001\n",
       "2020-11-03  134.163101  35.549999\n",
       "2020-11-04  135.034927  29.570000\n",
       "2020-11-05  135.383636  27.580000\n",
       "2020-11-06  137.795670  24.860001"
      ]
     },
     "execution_count": 6,
     "metadata": {},
     "output_type": "execute_result"
    }
   ],
   "source": [
    "initial_data['Adj Close'].head()"
   ]
  },
  {
   "cell_type": "code",
   "execution_count": 7,
   "id": "08988a81",
   "metadata": {},
   "outputs": [
    {
     "name": "stdout",
     "output_type": "stream",
     "text": [
      "<class 'pandas.core.frame.DataFrame'>\n",
      "DatetimeIndex: 251 entries, 2020-11-02 to 2021-10-29\n",
      "Data columns (total 2 columns):\n",
      " #   Column  Non-Null Count  Dtype  \n",
      "---  ------  --------------  -----  \n",
      " 0   JNJ     251 non-null    float64\n",
      " 1   ^VIX    251 non-null    float64\n",
      "dtypes: float64(2)\n",
      "memory usage: 5.9 KB\n"
     ]
    }
   ],
   "source": [
    "data = initial_data['Adj Close']\n",
    "jnj= data['JNJ']\n",
    "vix= data['^VIX']\n",
    "data.info()"
   ]
  },
  {
   "cell_type": "code",
   "execution_count": 8,
   "id": "7c2a5864",
   "metadata": {},
   "outputs": [
    {
     "data": {
      "text/html": [
       "<div>\n",
       "<style scoped>\n",
       "    .dataframe tbody tr th:only-of-type {\n",
       "        vertical-align: middle;\n",
       "    }\n",
       "\n",
       "    .dataframe tbody tr th {\n",
       "        vertical-align: top;\n",
       "    }\n",
       "\n",
       "    .dataframe thead th {\n",
       "        text-align: right;\n",
       "    }\n",
       "</style>\n",
       "<table border=\"1\" class=\"dataframe\">\n",
       "  <thead>\n",
       "    <tr style=\"text-align: right;\">\n",
       "      <th></th>\n",
       "      <th>JNJ</th>\n",
       "      <th>^VIX</th>\n",
       "    </tr>\n",
       "    <tr>\n",
       "      <th>Date</th>\n",
       "      <th></th>\n",
       "      <th></th>\n",
       "    </tr>\n",
       "  </thead>\n",
       "  <tbody>\n",
       "    <tr>\n",
       "      <th>2020-11-02</th>\n",
       "      <td>134.347153</td>\n",
       "      <td>37.130001</td>\n",
       "    </tr>\n",
       "    <tr>\n",
       "      <th>2020-11-03</th>\n",
       "      <td>134.163101</td>\n",
       "      <td>35.549999</td>\n",
       "    </tr>\n",
       "    <tr>\n",
       "      <th>2020-11-04</th>\n",
       "      <td>135.034927</td>\n",
       "      <td>29.570000</td>\n",
       "    </tr>\n",
       "    <tr>\n",
       "      <th>2020-11-05</th>\n",
       "      <td>135.383636</td>\n",
       "      <td>27.580000</td>\n",
       "    </tr>\n",
       "    <tr>\n",
       "      <th>2020-11-06</th>\n",
       "      <td>137.795670</td>\n",
       "      <td>24.860001</td>\n",
       "    </tr>\n",
       "  </tbody>\n",
       "</table>\n",
       "</div>"
      ],
      "text/plain": [
       "                   JNJ       ^VIX\n",
       "Date                             \n",
       "2020-11-02  134.347153  37.130001\n",
       "2020-11-03  134.163101  35.549999\n",
       "2020-11-04  135.034927  29.570000\n",
       "2020-11-05  135.383636  27.580000\n",
       "2020-11-06  137.795670  24.860001"
      ]
     },
     "execution_count": 8,
     "metadata": {},
     "output_type": "execute_result"
    }
   ],
   "source": [
    "data.head()"
   ]
  },
  {
   "cell_type": "code",
   "execution_count": 9,
   "id": "7f38d702",
   "metadata": {},
   "outputs": [
    {
     "data": {
      "text/html": [
       "<div>\n",
       "<style scoped>\n",
       "    .dataframe tbody tr th:only-of-type {\n",
       "        vertical-align: middle;\n",
       "    }\n",
       "\n",
       "    .dataframe tbody tr th {\n",
       "        vertical-align: top;\n",
       "    }\n",
       "\n",
       "    .dataframe thead th {\n",
       "        text-align: right;\n",
       "    }\n",
       "</style>\n",
       "<table border=\"1\" class=\"dataframe\">\n",
       "  <thead>\n",
       "    <tr style=\"text-align: right;\">\n",
       "      <th></th>\n",
       "      <th>JNJ</th>\n",
       "      <th>^VIX</th>\n",
       "    </tr>\n",
       "    <tr>\n",
       "      <th>Date</th>\n",
       "      <th></th>\n",
       "      <th></th>\n",
       "    </tr>\n",
       "  </thead>\n",
       "  <tbody>\n",
       "    <tr>\n",
       "      <th>2021-10-25</th>\n",
       "      <td>163.012253</td>\n",
       "      <td>15.240000</td>\n",
       "    </tr>\n",
       "    <tr>\n",
       "      <th>2021-10-26</th>\n",
       "      <td>164.671387</td>\n",
       "      <td>15.980000</td>\n",
       "    </tr>\n",
       "    <tr>\n",
       "      <th>2021-10-27</th>\n",
       "      <td>162.674469</td>\n",
       "      <td>16.980000</td>\n",
       "    </tr>\n",
       "    <tr>\n",
       "      <th>2021-10-28</th>\n",
       "      <td>161.790268</td>\n",
       "      <td>16.530001</td>\n",
       "    </tr>\n",
       "    <tr>\n",
       "      <th>2021-10-29</th>\n",
       "      <td>161.820068</td>\n",
       "      <td>16.260000</td>\n",
       "    </tr>\n",
       "  </tbody>\n",
       "</table>\n",
       "</div>"
      ],
      "text/plain": [
       "                   JNJ       ^VIX\n",
       "Date                             \n",
       "2021-10-25  163.012253  15.240000\n",
       "2021-10-26  164.671387  15.980000\n",
       "2021-10-27  162.674469  16.980000\n",
       "2021-10-28  161.790268  16.530001\n",
       "2021-10-29  161.820068  16.260000"
      ]
     },
     "execution_count": 9,
     "metadata": {},
     "output_type": "execute_result"
    }
   ],
   "source": [
    "data.tail()"
   ]
  },
  {
   "cell_type": "code",
   "execution_count": 10,
   "id": "56b492c8",
   "metadata": {},
   "outputs": [
    {
     "data": {
      "text/plain": [
       "array([<AxesSubplot:xlabel='Date'>], dtype=object)"
      ]
     },
     "execution_count": 10,
     "metadata": {},
     "output_type": "execute_result"
    },
    {
     "data": {
      "image/png": "[encoded data removed]",
      "text/plain": [
       "<Figure size 864x864 with 1 Axes>"
      ]
     },
     "metadata": {
      "needs_background": "light"
     },
     "output_type": "display_data"
    }
   ],
   "source": [
    "data['^VIX'].plot(figsize=(12,12), subplots=True)"
   ]
  },
  {
   "cell_type": "code",
   "execution_count": 11,
   "id": "d9a152bd",
   "metadata": {
    "scrolled": true
   },
   "outputs": [
    {
     "data": {
      "text/html": [
       "<div>\n",
       "<style scoped>\n",
       "    .dataframe tbody tr th:only-of-type {\n",
       "        vertical-align: middle;\n",
       "    }\n",
       "\n",
       "    .dataframe tbody tr th {\n",
       "        vertical-align: top;\n",
       "    }\n",
       "\n",
       "    .dataframe thead th {\n",
       "        text-align: right;\n",
       "    }\n",
       "</style>\n",
       "<table border=\"1\" class=\"dataframe\">\n",
       "  <thead>\n",
       "    <tr style=\"text-align: right;\">\n",
       "      <th></th>\n",
       "      <th>JNJ</th>\n",
       "      <th>^VIX</th>\n",
       "    </tr>\n",
       "  </thead>\n",
       "  <tbody>\n",
       "    <tr>\n",
       "      <th>count</th>\n",
       "      <td>251.000000</td>\n",
       "      <td>251.000000</td>\n",
       "    </tr>\n",
       "    <tr>\n",
       "      <th>mean</th>\n",
       "      <td>160.067325</td>\n",
       "      <td>20.267888</td>\n",
       "    </tr>\n",
       "    <tr>\n",
       "      <th>std</th>\n",
       "      <td>8.758315</td>\n",
       "      <td>3.804411</td>\n",
       "    </tr>\n",
       "    <tr>\n",
       "      <th>min</th>\n",
       "      <td>134.163101</td>\n",
       "      <td>15.010000</td>\n",
       "    </tr>\n",
       "    <tr>\n",
       "      <th>25%</th>\n",
       "      <td>156.600998</td>\n",
       "      <td>17.250000</td>\n",
       "    </tr>\n",
       "    <tr>\n",
       "      <th>50%</th>\n",
       "      <td>161.595001</td>\n",
       "      <td>19.660000</td>\n",
       "    </tr>\n",
       "    <tr>\n",
       "      <th>75%</th>\n",
       "      <td>165.569275</td>\n",
       "      <td>22.495000</td>\n",
       "    </tr>\n",
       "    <tr>\n",
       "      <th>max</th>\n",
       "      <td>177.248840</td>\n",
       "      <td>37.209999</td>\n",
       "    </tr>\n",
       "  </tbody>\n",
       "</table>\n",
       "</div>"
      ],
      "text/plain": [
       "              JNJ        ^VIX\n",
       "count  251.000000  251.000000\n",
       "mean   160.067325   20.267888\n",
       "std      8.758315    3.804411\n",
       "min    134.163101   15.010000\n",
       "25%    156.600998   17.250000\n",
       "50%    161.595001   19.660000\n",
       "75%    165.569275   22.495000\n",
       "max    177.248840   37.209999"
      ]
     },
     "execution_count": 11,
     "metadata": {},
     "output_type": "execute_result"
    }
   ],
   "source": [
    "data.describe()"
   ]
  },
  {
   "cell_type": "markdown",
   "id": "f5add18f",
   "metadata": {},
   "source": [
    "Calculating the annualised volatilty "
   ]
  },
  {
   "cell_type": "code",
   "execution_count": 12,
   "id": "d551aad9",
   "metadata": {},
   "outputs": [],
   "source": [
    "log_return = np.log(jnj / jnj.shift(1))"
   ]
  },
  {
   "cell_type": "code",
   "execution_count": 13,
   "id": "4a384a43",
   "metadata": {},
   "outputs": [
    {
     "name": "stdout",
     "output_type": "stream",
     "text": [
      "the annualised volatility is 14.72 %\n"
     ]
    }
   ],
   "source": [
    "vol = np.sqrt(252)* log_return.std()\n",
    "print ('the annualised volatility is', round(vol*100,2),'%')"
   ]
  },
  {
   "cell_type": "code",
   "execution_count": 14,
   "id": "f2b151b7",
   "metadata": {},
   "outputs": [
    {
     "name": "stdout",
     "output_type": "stream",
     "text": [
      "The Market Volatility is 16.26 %\n"
     ]
    }
   ],
   "source": [
    "vix= vix[-1]\n",
    "print('The Market Volatility is', round(vix,2), '%')"
   ]
  },
  {
   "cell_type": "code",
   "execution_count": 15,
   "id": "d6196947",
   "metadata": {},
   "outputs": [],
   "source": [
    "#input Table "
   ]
  },
  {
   "cell_type": "code",
   "execution_count": 16,
   "id": "22b450f8",
   "metadata": {},
   "outputs": [
    {
     "data": {
      "text/plain": [
       "161.820068359375"
      ]
     },
     "execution_count": 16,
     "metadata": {},
     "output_type": "execute_result"
    }
   ],
   "source": [
    "jnj[-1]"
   ]
  },
  {
   "cell_type": "code",
   "execution_count": 17,
   "id": "28edf492",
   "metadata": {},
   "outputs": [],
   "source": [
    "S0 = jnj[-1]        # spot stock price \n",
    "K = 158             # strike \n",
    "T = 1.0             # maturity \n",
    "r = 0.01532         # risk free rate \n",
    "sig = 0.1626        #diffusion coefficient or volatility \n",
    "N = 7               # number of periods or number of time steps \n",
    "Payoff = \"call\"      # payoff\n"
   ]
  },
  {
   "cell_type": "code",
   "execution_count": 18,
   "id": "cc13f206",
   "metadata": {},
   "outputs": [],
   "source": [
    "dT = float(T) / N                             # Delta t\n",
    "u = np.exp(sig * np.sqrt(dT))                 # up factor\n",
    "d = 1.0 / u                                   # down factor \n"
   ]
  },
  {
   "cell_type": "code",
   "execution_count": 19,
   "id": "eebcba31",
   "metadata": {},
   "outputs": [],
   "source": [
    "S = np.zeros((N + 1, N + 1))\n",
    "S[0, 0] = S0\n",
    "z = 1\n",
    "for t in range(1, N + 1):\n",
    "    for i in range(z):\n",
    "        S[i, t] = S[i, t-1] * u\n",
    "        S[i+1, t] = S[i, t-1] * d\n",
    "    z += 1\n"
   ]
  },
  {
   "cell_type": "code",
   "execution_count": 20,
   "id": "5e0e7acb",
   "metadata": {},
   "outputs": [
    {
     "data": {
      "text/plain": [
       "array([[161.82006836, 172.07700019, 182.98406553, 194.58247297,\n",
       "        206.91604309, 220.03137402, 233.97801751, 248.80866614],\n",
       "       [  0.        , 152.17451778, 161.82006836, 172.07700019,\n",
       "        182.98406553, 194.58247297, 206.91604309, 220.03137402],\n",
       "       [  0.        ,   0.        , 143.10390606, 152.17451778,\n",
       "        161.82006836, 172.07700019, 182.98406553, 194.58247297],\n",
       "       [  0.        ,   0.        ,   0.        , 134.57396303,\n",
       "        143.10390606, 152.17451778, 161.82006836, 172.07700019],\n",
       "       [  0.        ,   0.        ,   0.        ,   0.        ,\n",
       "        126.55246124, 134.57396303, 143.10390606, 152.17451778],\n",
       "       [  0.        ,   0.        ,   0.        ,   0.        ,\n",
       "          0.        , 119.00909423, 126.55246124, 134.57396303],\n",
       "       [  0.        ,   0.        ,   0.        ,   0.        ,\n",
       "          0.        ,   0.        , 111.91536197, 119.00909423],\n",
       "       [  0.        ,   0.        ,   0.        ,   0.        ,\n",
       "          0.        ,   0.        ,   0.        , 105.24446327]])"
      ]
     },
     "execution_count": 20,
     "metadata": {},
     "output_type": "execute_result"
    }
   ],
   "source": [
    "S         "
   ]
  },
  {
   "cell_type": "code",
   "execution_count": 21,
   "id": "8461a8f4",
   "metadata": {},
   "outputs": [
    {
     "data": {
      "text/plain": [
       "0.5024545674481048"
      ]
     },
     "execution_count": 21,
     "metadata": {},
     "output_type": "execute_result"
    }
   ],
   "source": [
    "a = np.exp(r * dT)    # risk free compound return\n",
    "p = (a - d)/ (u - d)  # risk neutral up probability\n",
    "q = 1.0 - p           # risk neutral down probability\n",
    "p"
   ]
  },
  {
   "cell_type": "code",
   "execution_count": 22,
   "id": "cd06cfca",
   "metadata": {},
   "outputs": [
    {
     "data": {
      "text/plain": [
       "array([[ 0.        ,  0.        ,  0.        ,  0.        ,  0.        ,\n",
       "         0.        ,  0.        , 90.80866614],\n",
       "       [ 0.        ,  0.        ,  0.        ,  0.        ,  0.        ,\n",
       "         0.        ,  0.        , 62.03137402],\n",
       "       [ 0.        ,  0.        ,  0.        ,  0.        ,  0.        ,\n",
       "         0.        ,  0.        , 36.58247297],\n",
       "       [ 0.        ,  0.        ,  0.        ,  0.        ,  0.        ,\n",
       "         0.        ,  0.        , 14.07700019],\n",
       "       [ 0.        ,  0.        ,  0.        ,  0.        ,  0.        ,\n",
       "         0.        ,  0.        ,  0.        ],\n",
       "       [ 0.        ,  0.        ,  0.        ,  0.        ,  0.        ,\n",
       "         0.        ,  0.        ,  0.        ],\n",
       "       [ 0.        ,  0.        ,  0.        ,  0.        ,  0.        ,\n",
       "         0.        ,  0.        ,  0.        ],\n",
       "       [ 0.        ,  0.        ,  0.        ,  0.        ,  0.        ,\n",
       "         0.        ,  0.        ,  0.        ]])"
      ]
     },
     "execution_count": 22,
     "metadata": {},
     "output_type": "execute_result"
    }
   ],
   "source": [
    "S_T = S[:,-1]\n",
    "V = np.zeros((N + 1, N + 1))\n",
    "if Payoff ==\"call\":\n",
    "    V[:,-1] = np.maximum(S_T-K, 0.0)\n",
    "elif Payoff ==\"put\":\n",
    "    V[:,-1] = np.maximum(K-S_T, 0.0)\n",
    "V\n"
   ]
  },
  {
   "cell_type": "code",
   "execution_count": 23,
   "id": "962ba52b",
   "metadata": {},
   "outputs": [
    {
     "data": {
      "text/plain": [
       "array([[13.95326041, 20.1815052 , 28.29721761, 38.31349737, 49.95002781,\n",
       "        62.72145121, 76.32343368, 90.80866614],\n",
       "       [ 0.        ,  7.72500728, 12.07458778, 18.30671848, 26.73086825,\n",
       "        37.27255016, 49.26145926, 62.03137402],\n",
       "       [ 0.        ,  0.        ,  3.36652823,  5.83413757,  9.88006471,\n",
       "        16.20288547, 25.32948169, 36.58247297],\n",
       "       [ 0.        ,  0.        ,  0.        ,  0.88939641,  1.77398138,\n",
       "         3.53836593,  7.05759008, 14.07700019],\n",
       "       [ 0.        ,  0.        ,  0.        ,  0.        ,  0.        ,\n",
       "         0.        ,  0.        ,  0.        ],\n",
       "       [ 0.        ,  0.        ,  0.        ,  0.        ,  0.        ,\n",
       "         0.        ,  0.        ,  0.        ],\n",
       "       [ 0.        ,  0.        ,  0.        ,  0.        ,  0.        ,\n",
       "         0.        ,  0.        ,  0.        ],\n",
       "       [ 0.        ,  0.        ,  0.        ,  0.        ,  0.        ,\n",
       "         0.        ,  0.        ,  0.        ]])"
      ]
     },
     "execution_count": 23,
     "metadata": {},
     "output_type": "execute_result"
    }
   ],
   "source": [
    "# for European Option\n",
    "for j in range(N-1, -1, -1):\n",
    "    for i in range(j+1):\n",
    "        V[i,j] = np.exp(-r*dT) * (p * V[i,j + 1] + q * V[i + 1,j + 1])\n",
    "V"
   ]
  },
  {
   "cell_type": "code",
   "execution_count": 24,
   "id": "30b66bce",
   "metadata": {},
   "outputs": [
    {
     "name": "stdout",
     "output_type": "stream",
     "text": [
      "European call 13.953260405850628\n"
     ]
    }
   ],
   "source": [
    "print('European ' + Payoff, str( V[0,0]))"
   ]
  },
  {
   "cell_type": "code",
   "execution_count": 25,
   "id": "15fba38f",
   "metadata": {},
   "outputs": [
    {
     "name": "stdout",
     "output_type": "stream",
     "text": [
      "European put 13.953260405850628\n"
     ]
    }
   ],
   "source": [
    "Payoff = 'put'\n",
    "print('European ' + Payoff, str( V[0,0]))"
   ]
  },
  {
   "cell_type": "code",
   "execution_count": 26,
   "id": "7ce61ee6",
   "metadata": {},
   "outputs": [],
   "source": [
    "#monte carlo stimulation "
   ]
  },
  {
   "cell_type": "code",
   "execution_count": 27,
   "id": "3f91bc36",
   "metadata": {},
   "outputs": [],
   "source": [
    "def mcs_simulation_np(p):\n",
    "    M = p\n",
    "    I = p\n",
    "    dt = T / M \n",
    "    S = np.zeros((M + 1, I))\n",
    "    S[0] = S0 \n",
    "    rn = np.random.standard_normal(S.shape) \n",
    "    for t in range(1, M + 1): \n",
    "        S[t] = S[t-1] * np.exp((r - sigma ** 2 / 2) * dt + sigma * np.sqrt(dt) * rn[t]) \n",
    "    return S\n"
   ]
  },
  {
   "cell_type": "code",
   "execution_count": 28,
   "id": "97cfffc3",
   "metadata": {},
   "outputs": [],
   "source": [
    "T = 1\n",
    "r = 0.01532 \n",
    "sigma = 0.1626\n",
    "S0 = 161.82\n",
    "K = 158\n"
   ]
  },
  {
   "cell_type": "code",
   "execution_count": 29,
   "id": "51eb91d1",
   "metadata": {},
   "outputs": [],
   "source": [
    "S = mcs_simulation_np(1000)\n"
   ]
  },
  {
   "cell_type": "code",
   "execution_count": 30,
   "id": "335c62be",
   "metadata": {},
   "outputs": [
    {
     "data": {
      "text/plain": [
       "array([[161.82      , 163.26762087, 163.2178329 , ..., 160.37412001,\n",
       "        161.01838671, 160.74763641],\n",
       "       [161.82      , 160.70893671, 160.48924515, ..., 217.71120908,\n",
       "        217.80635124, 218.69023638],\n",
       "       [161.82      , 160.71057947, 160.8646935 , ..., 128.81120178,\n",
       "        128.71658283, 127.72769886],\n",
       "       ...,\n",
       "       [161.82      , 161.90573117, 161.81746628, ..., 131.1196151 ,\n",
       "        131.85419669, 132.82017804],\n",
       "       [161.82      , 161.43430948, 161.61104531, ..., 174.64075944,\n",
       "        174.34470376, 175.0987349 ],\n",
       "       [161.82      , 161.6296328 , 161.80687692, ..., 183.10793288,\n",
       "        185.59561307, 186.09376302]])"
      ]
     },
     "execution_count": 30,
     "metadata": {},
     "output_type": "execute_result"
    }
   ],
   "source": [
    "S = np.transpose(S)\n",
    "S\n"
   ]
  },
  {
   "cell_type": "code",
   "execution_count": 31,
   "id": "151f898b",
   "metadata": {},
   "outputs": [
    {
     "data": {
      "text/plain": [
       "Text(0.5, 1.0, 'Frequency distribution of the simulated end-of-preiod values')"
      ]
     },
     "execution_count": 31,
     "metadata": {},
     "output_type": "execute_result"
    },
    {
     "data": {
      "image/png": "[encoded data removed]",
      "text/plain": [
       "<Figure size 432x288 with 1 Axes>"
      ]
     },
     "metadata": {
      "needs_background": "light"
     },
     "output_type": "display_data"
    }
   ],
   "source": [
    "n, bins, patches = plt.hist(x=S[:,-1], bins='auto', color='#0504aa',alpha=0.7, rwidth=0.85)\n",
    "\n",
    "plt.grid(axis='y', alpha=0.75)\n",
    "plt.xlabel('S_T')\n",
    "plt.ylabel('Frequency')\n",
    "plt.title('Frequency distribution of the simulated end-of-preiod values')\n"
   ]
  },
  {
   "cell_type": "code",
   "execution_count": 32,
   "id": "8c2acd20",
   "metadata": {},
   "outputs": [
    {
     "name": "stdout",
     "output_type": "stream",
     "text": [
      "European put 7.332288244551365\n"
     ]
    }
   ],
   "source": [
    "p = np.mean(np.maximum(K - S[:,-1],0))\n",
    "print('European put', str(p))"
   ]
  },
  {
   "cell_type": "code",
   "execution_count": 33,
   "id": "8a28c674",
   "metadata": {},
   "outputs": [
    {
     "name": "stdout",
     "output_type": "stream",
     "text": [
      "European call 13.601359366385225\n"
     ]
    }
   ],
   "source": [
    "c = np.mean(np.maximum(S[:,-1] - K,0))\n",
    "print('European call', str(c))\n"
   ]
  },
  {
   "cell_type": "code",
   "execution_count": 34,
   "id": "86023551",
   "metadata": {},
   "outputs": [],
   "source": [
    "import scipy.stats as si"
   ]
  },
  {
   "cell_type": "code",
   "execution_count": 45,
   "id": "edce7a64",
   "metadata": {},
   "outputs": [],
   "source": [
    "def euro_option_bsm(S, K, T, r, q, vol, payoff):\n",
    "    \n",
    "    #S: spot price\n",
    "    #K: strike price\n",
    "    #T: time to maturity\n",
    "    #r: risk free rate\n",
    "    #q: continuous dividend yield\n",
    "    #vol: volatility of underlying asset\n",
    "    #payoff: call or put\n",
    "    \n",
    "    d1 = (np.log(S / K) + (r - q + 0.5 * vol ** 2) * T) / (vol * np.sqrt(T))\n",
    "    d2 = (np.log(S / K) + (r - q - 0.5 * vol ** 2) * T) / (vol * np.sqrt(T))\n",
    "    if payoff == \"call\":\n",
    "        option_value = S * np.exp(-q * T) * si.norm.cdf(d1, 0.0, 1.0) - K * np.exp(-r * T) * si.norm.cdf(d2, 0.0, 1.0)\n",
    "    elif payoff == \"put\":\n",
    "        option_value =  - S * np.exp(-q * T) * si.norm.cdf(-d1, 0.0, 1.0) + K * np.exp(-r * T) * si.norm.cdf(-d2, 0.0, 1.0)\n",
    "    \n",
    "    return option_value\n",
    "\n"
   ]
  },
  {
   "cell_type": "code",
   "execution_count": 46,
   "id": "7afd546e",
   "metadata": {},
   "outputs": [
    {
     "data": {
      "text/plain": [
       "10.207905055542469"
      ]
     },
     "execution_count": 46,
     "metadata": {},
     "output_type": "execute_result"
    }
   ],
   "source": [
    "euro_option_bsm(161.82, 158, 1, 0.01532, 0.0266, 0.1472, 'call')"
   ]
  },
  {
   "cell_type": "code",
   "execution_count": 37,
   "id": "58243d83",
   "metadata": {},
   "outputs": [
    {
     "data": {
      "text/plain": [
       "8.233459789136475"
      ]
     },
     "execution_count": 37,
     "metadata": {},
     "output_type": "execute_result"
    }
   ],
   "source": [
    "euro_option_bsm(161.82, 158, 1, 0.01532, 0.0266, 0.1472, 'put')"
   ]
  },
  {
   "cell_type": "code",
   "execution_count": 38,
   "id": "1d909abb",
   "metadata": {},
   "outputs": [],
   "source": [
    "S = np.linspace(50,150,11)\n",
    "Call = np.zeros((len(S),1))\n",
    "Put = np.zeros((len(S),1))\n",
    "for i in range(len(S)):\n",
    "    Call [i] = euro_option_bsm(S[i], 158, 1, 0.01532, 0.0266, 0.1472, 'call')\n",
    "    Put [i] = euro_option_bsm(S[i], 158, 1, 0.01532, 0.0266, 0.1472, 'put')"
   ]
  },
  {
   "cell_type": "code",
   "execution_count": 39,
   "id": "2caa317e",
   "metadata": {},
   "outputs": [
    {
     "data": {
      "text/plain": [
       "<matplotlib.legend.Legend at 0x2007a694b20>"
      ]
     },
     "execution_count": 39,
     "metadata": {},
     "output_type": "execute_result"
    },
    {
     "data": {
      "image/png": "[encoded data removed]",
      "text/plain": [
       "<Figure size 432x288 with 1 Axes>"
      ]
     },
     "metadata": {
      "needs_background": "light"
     },
     "output_type": "display_data"
    }
   ],
   "source": [
    "fig = plt.figure()\n",
    "plt.plot(S, Call, '-')\n",
    "plt.plot(S, Put, '--')\n",
    "plt.grid()\n",
    "plt.xlabel('Stock Price')\n",
    "plt.ylabel('Option Price')\n",
    "plt.title('European Option')\n",
    "plt.legend(['Call','Put'])"
   ]
  },
  {
   "cell_type": "code",
   "execution_count": 73,
   "id": "f0afe6bb",
   "metadata": {},
   "outputs": [],
   "source": [
    "def delta(S, K, T, r, q, vol, payoff):\n",
    "    \n",
    "    d1 = (np.log(S / K) + (r - q + 0.5 * vol ** 2) * T) / (vol * np.sqrt(T))\n",
    "    if payoff == \"call\":\n",
    "        delta = np.exp(-q * T)* si.norm.cdf(d1, 0.0, 1.0)\n",
    "    elif payoff == \"put\":\n",
    "        delta = np.exp(-q * T)* si.norm.cdf(d1, 0.0, 1.0)-1\n",
    "    \n",
    "    return delta\n"
   ]
  },
  {
   "cell_type": "code",
   "execution_count": 74,
   "id": "bd9e6f5a",
   "metadata": {},
   "outputs": [
    {
     "data": {
      "text/plain": [
       "0.5484836704371365"
      ]
     },
     "execution_count": 74,
     "metadata": {},
     "output_type": "execute_result"
    }
   ],
   "source": [
    "delta(161.82, 158, 1, 0.01532, 0.0266, 0.1472, 'call')"
   ]
  },
  {
   "cell_type": "code",
   "execution_count": 75,
   "id": "920c49cd",
   "metadata": {},
   "outputs": [
    {
     "data": {
      "text/plain": [
       "-0.45151632956286347"
      ]
     },
     "execution_count": 75,
     "metadata": {},
     "output_type": "execute_result"
    }
   ],
   "source": [
    "delta(161.82, 158, 1, 0.01532, 0.0266, 0.1472, 'put')"
   ]
  },
  {
   "cell_type": "code",
   "execution_count": 76,
   "id": "f78e82cc",
   "metadata": {},
   "outputs": [],
   "source": [
    "S = np.linspace(50,150,11)\n",
    "Delta_Call = np.zeros((len(S),1))\n",
    "Delta_Put = np.zeros((len(S),1))\n",
    "for i in range(len(S)):\n",
    "    Delta_Call [i] = delta(S[i], 158, 1, 0.01532, 0.0266, 0.1472, 'call')\n",
    "    Delta_Put [i] = delta(S[i], 158, 1, 0.01532, 0.0266, 0.1472, 'put')"
   ]
  },
  {
   "cell_type": "code",
   "execution_count": 77,
   "id": "379434a2",
   "metadata": {},
   "outputs": [
    {
     "data": {
      "text/plain": [
       "<matplotlib.legend.Legend at 0x2007a88bfd0>"
      ]
     },
     "execution_count": 77,
     "metadata": {},
     "output_type": "execute_result"
    },
    {
     "data": {
      "image/png": "[encoded data removed]",
      "text/plain": [
       "<Figure size 432x288 with 1 Axes>"
      ]
     },
     "metadata": {
      "needs_background": "light"
     },
     "output_type": "display_data"
    }
   ],
   "source": [
    "fig = plt.figure()\n",
    "plt.plot(S, Delta_Call, '-')\n",
    "plt.plot(S, Delta_Put, '--')\n",
    "plt.grid()\n",
    "plt.xlabel('Stock Price')\n",
    "plt.ylabel('Delta')\n",
    "plt.title('Delta')\n",
    "plt.legend(['Delta for Call','Delta for Put'])"
   ]
  },
  {
   "cell_type": "code",
   "execution_count": 78,
   "id": "2e94e782",
   "metadata": {},
   "outputs": [],
   "source": [
    "def gamma(S, K, T, r, q, vol, payoff):\n",
    "    \n",
    "    d1 = (np.log(S / K) + (r - q + 0.5 * vol ** 2) * T) / (vol * np.sqrt(T))\n",
    "    gamma = np.exp(-q * T) * si.norm.pdf(d1, 0.0, 1.0) / ( vol* S * np.sqrt(T))\n",
    "    \n",
    "    return gamma\n"
   ]
  },
  {
   "cell_type": "code",
   "execution_count": 79,
   "id": "9c9def5c",
   "metadata": {},
   "outputs": [
    {
     "data": {
      "text/plain": [
       "0.01610311742948314"
      ]
     },
     "execution_count": 79,
     "metadata": {},
     "output_type": "execute_result"
    }
   ],
   "source": [
    "gamma(161.82, 158, 1, 0.01532, 0.0266, 0.1472, 'call')"
   ]
  },
  {
   "cell_type": "code",
   "execution_count": 80,
   "id": "be878cc7",
   "metadata": {},
   "outputs": [
    {
     "data": {
      "text/plain": [
       "0.01610311742948314"
      ]
     },
     "execution_count": 80,
     "metadata": {},
     "output_type": "execute_result"
    }
   ],
   "source": [
    "gamma(161.82, 158, 1, 0.01532, 0.0266, 0.1472, 'put')"
   ]
  },
  {
   "cell_type": "code",
   "execution_count": 81,
   "id": "6117113c",
   "metadata": {},
   "outputs": [],
   "source": [
    "S = np.linspace(50,150,11)\n",
    "Gamma = np.zeros((len(S),1))\n",
    "for i in range(len(S)):\n",
    "    Gamma [i] = gamma(S[i], 158, 1, 0.01532, 0.0266, 0.1472, 'call')"
   ]
  },
  {
   "cell_type": "code",
   "execution_count": 82,
   "id": "ac7de70d",
   "metadata": {},
   "outputs": [
    {
     "data": {
      "text/plain": [
       "<matplotlib.legend.Legend at 0x2007a8e2850>"
      ]
     },
     "execution_count": 82,
     "metadata": {},
     "output_type": "execute_result"
    },
    {
     "data": {
      "image/png": "[encoded data removed]",
      "text/plain": [
       "<Figure size 432x288 with 1 Axes>"
      ]
     },
     "metadata": {
      "needs_background": "light"
     },
     "output_type": "display_data"
    }
   ],
   "source": [
    "fig = plt.figure()\n",
    "plt.plot(S, Gamma, '-')\n",
    "plt.grid()\n",
    "plt.xlabel('Stock Price')\n",
    "plt.ylabel('Gamma')\n",
    "plt.title('Gamma')\n",
    "plt.legend(['Gamma for Call and Put'])\n"
   ]
  },
  {
   "cell_type": "code",
   "execution_count": 83,
   "id": "93c09662",
   "metadata": {},
   "outputs": [],
   "source": [
    "def speed(S, K, T, r, q, vol, payoff):\n",
    "    \n",
    "    d1 = (np.log(S / K) + (r - q + 0.5 * vol ** 2) * T) / (vol * np.sqrt(T))\n",
    "    speed = - np.exp(-q * T) * si.norm.pdf(d1, 0.0, 1.0) / ((vol **2) * (S**2) * np.sqrt(T)) * (d1 + vol * np.sqrt(T))\n",
    "    \n",
    "    return speed\n"
   ]
  },
  {
   "cell_type": "code",
   "execution_count": 53,
   "id": "55c857c9",
   "metadata": {},
   "outputs": [
    {
     "data": {
      "text/plain": [
       "-0.0002071799895506455"
      ]
     },
     "execution_count": 53,
     "metadata": {},
     "output_type": "execute_result"
    }
   ],
   "source": [
    "speed(161.82, 158, 1, 0.01532, 0.0266, 0.1472, 'call')"
   ]
  },
  {
   "cell_type": "code",
   "execution_count": 54,
   "id": "7d9183cc",
   "metadata": {},
   "outputs": [
    {
     "data": {
      "text/plain": [
       "-0.0002071799895506455"
      ]
     },
     "execution_count": 54,
     "metadata": {},
     "output_type": "execute_result"
    }
   ],
   "source": [
    "speed(161.82, 158, 1, 0.01532, 0.0266, 0.1472, 'put')"
   ]
  },
  {
   "cell_type": "code",
   "execution_count": 55,
   "id": "b5ed6011",
   "metadata": {},
   "outputs": [],
   "source": [
    "S = np.linspace(50,150,11)\n",
    "Speed = np.zeros((len(S),1))\n",
    "for i in range(len(S)):\n",
    "    Speed [i] = speed(S[i], 158, 1, 0.01532, 0.0266, 0.1472, 'call')"
   ]
  },
  {
   "cell_type": "code",
   "execution_count": 56,
   "id": "6d3cf521",
   "metadata": {},
   "outputs": [
    {
     "data": {
      "text/plain": [
       "<matplotlib.legend.Legend at 0x261a2be1a00>"
      ]
     },
     "execution_count": 56,
     "metadata": {},
     "output_type": "execute_result"
    },
    {
     "data": {
      "image/png": "[encoded data removed]",
      "text/plain": [
       "<Figure size 432x288 with 1 Axes>"
      ]
     },
     "metadata": {
      "needs_background": "light"
     },
     "output_type": "display_data"
    }
   ],
   "source": [
    "fig = plt.figure()\n",
    "plt.plot(S, Speed, '-')\n",
    "plt.grid()\n",
    "plt.xlabel('Stock Price')\n",
    "plt.ylabel('Speed')\n",
    "plt.title('Speed')\n",
    "plt.legend(['Speed for Call and Put'])"
   ]
  },
  {
   "cell_type": "code",
   "execution_count": 87,
   "id": "80a3a7a8",
   "metadata": {},
   "outputs": [],
   "source": [
    "def theta(S, K, T, r, q, vol, payoff):\n",
    "    \n",
    "    d1 = (np.log(S / K) + (r - q + 0.5 * vol ** 2) * T) / (vol * np.sqrt(T))\n",
    "    d2 = (np.log(S / K) + (r - q - 0.5 * vol ** 2) * T) / (vol * np.sqrt(T))\n",
    "    if payoff == \"call\":\n",
    "        theta = -vol * S * np.exp(-q * T) * si.norm.pdf(d1, 0.0, 1.0) / (2 * np.sqrt(T)) - q * S * np.exp(-q * T) * si.norm.cdf(d1, 0.0, 1.0) + r * K * np.exp(-r * T) * si.norm.cdf(d2, 0.0, 1.0)\n",
    "    elif payoff == \"put\":\n",
    "        theta = -vol * S * np.exp(-q * T) * si.norm.pdf(-d1, 0.0, 1.0) / (2 * np.sqrt(T)) - q * S * np.exp(-q * T) * si.norm.cdf(-d1, 0.0, 1.0) + r * K * np.exp(-r * T) * si.norm.cdf(-d2, 0.0, 1.0)\n",
    "    \n",
    "    return theta\n"
   ]
  },
  {
   "cell_type": "code",
   "execution_count": 88,
   "id": "a688af1c",
   "metadata": {},
   "outputs": [
    {
     "data": {
      "text/plain": [
       "-5.725904983868109"
      ]
     },
     "execution_count": 88,
     "metadata": {},
     "output_type": "execute_result"
    }
   ],
   "source": [
    "theta(161.82, 158, 1, 0.01532, 0.0266, 0.1472,  'call')"
   ]
  },
  {
   "cell_type": "code",
   "execution_count": 89,
   "id": "cb33a6ba",
   "metadata": {},
   "outputs": [
    {
     "data": {
      "text/plain": [
       "-5.218472226753267"
      ]
     },
     "execution_count": 89,
     "metadata": {},
     "output_type": "execute_result"
    }
   ],
   "source": [
    "theta(161.82, 158, 1, 0.01532, 0.0266, 0.1472, 'put')\n"
   ]
  },
  {
   "cell_type": "code",
   "execution_count": 90,
   "id": "3451723e",
   "metadata": {},
   "outputs": [],
   "source": [
    "T = np.linspace(0.25,3,12)\n",
    "Theta_Call = np.zeros((len(T),1))\n",
    "Theta_Put = np.zeros((len(T),1))\n",
    "for i in range(len(T)):\n",
    "    Theta_Call [i] = theta(161.82, 158, T[i], 0.01532, 0.0266, 0.1472, 'call')\n",
    "    Theta_Put [i] = theta(161.82, 158, T[i], 0.01532, 0.0266, 0.1472, 'put')"
   ]
  },
  {
   "cell_type": "code",
   "execution_count": 91,
   "id": "0b4d970d",
   "metadata": {},
   "outputs": [
    {
     "data": {
      "text/plain": [
       "<matplotlib.legend.Legend at 0x2007a9734f0>"
      ]
     },
     "execution_count": 91,
     "metadata": {},
     "output_type": "execute_result"
    },
    {
     "data": {
      "image/png": "[encoded data removed]",
      "text/plain": [
       "<Figure size 432x288 with 1 Axes>"
      ]
     },
     "metadata": {
      "needs_background": "light"
     },
     "output_type": "display_data"
    }
   ],
   "source": [
    "fig = plt.figure()\n",
    "plt.plot(T, Theta_Call, '-')\n",
    "plt.plot(T, Theta_Put, '-')\n",
    "plt.grid()\n",
    "plt.xlabel('Time to Expiry')\n",
    "plt.ylabel('Theta')\n",
    "plt.title('Theta')\n",
    "plt.legend(['Theta for Call', 'Theta for Put'])"
   ]
  },
  {
   "cell_type": "code",
   "execution_count": 62,
   "id": "5f054b22",
   "metadata": {},
   "outputs": [],
   "source": [
    "def rho(S, K, T, r, q, vol, payoff):\n",
    "    \n",
    "    d1 = (np.log(S / K) + (r - q + 0.5 * vol ** 2) * T) / (vol * np.sqrt(T))\n",
    "    d2 = (np.log(S / K) + (r - q - 0.5 * vol ** 2) * T) / (vol * np.sqrt(T))\n",
    "    if payoff == \"call\":\n",
    "        rho =  K * T * np.exp(-r * T) * si.norm.cdf(d2, 0.0, 1.0)\n",
    "    elif payoff == \"put\":\n",
    "        rho = - K * T * np.exp(-r * T) * si.norm.cdf(-d2, 0.0, 1.0)\n",
    "    \n",
    "    return rho\n"
   ]
  },
  {
   "cell_type": "code",
   "execution_count": 63,
   "id": "5e7141f0",
   "metadata": {},
   "outputs": [
    {
     "data": {
      "text/plain": [
       "78.54772249459498"
      ]
     },
     "execution_count": 63,
     "metadata": {},
     "output_type": "execute_result"
    }
   ],
   "source": [
    "rho(161.82, 158, 1, 0.01532, 0.0266, 0.1472, 'call')"
   ]
  },
  {
   "cell_type": "code",
   "execution_count": 64,
   "id": "c71c5273",
   "metadata": {},
   "outputs": [
    {
     "data": {
      "text/plain": [
       "-77.05016467133414"
      ]
     },
     "execution_count": 64,
     "metadata": {},
     "output_type": "execute_result"
    }
   ],
   "source": [
    "rho(161.82, 158, 1, 0.01532, 0.0266, 0.1472, 'put')\n"
   ]
  },
  {
   "cell_type": "code",
   "execution_count": 65,
   "id": "b1fe8df9",
   "metadata": {},
   "outputs": [],
   "source": [
    "r = np.linspace(0,0.1,11)\n",
    "Rho_Call = np.zeros((len(r),1))\n",
    "Rho_Put = np.zeros((len(r),1))\n",
    "for i in range(len(r)):\n",
    "    Rho_Call [i] = rho(161.82, 158, 1, r[i], 0.0266, 0.1472, 'call')\n",
    "    Rho_Put [i] = rho(161.82, 158, 1, r[i], 0.0266, 0.1472, 'put')\n"
   ]
  },
  {
   "cell_type": "code",
   "execution_count": 66,
   "id": "5c2e64e1",
   "metadata": {},
   "outputs": [
    {
     "data": {
      "text/plain": [
       "<matplotlib.legend.Legend at 0x261a2cfeee0>"
      ]
     },
     "execution_count": 66,
     "metadata": {},
     "output_type": "execute_result"
    },
    {
     "data": {
      "image/png": "[encoded data removed]",
      "text/plain": [
       "<Figure size 432x288 with 1 Axes>"
      ]
     },
     "metadata": {
      "needs_background": "light"
     },
     "output_type": "display_data"
    }
   ],
   "source": [
    "fig = plt.figure()\n",
    "plt.plot(r, Rho_Call, '-')\n",
    "plt.plot(r, Rho_Put, '-')\n",
    "plt.grid()\n",
    "plt.xlabel('Interest Rate')\n",
    "plt.ylabel('Rho')\n",
    "plt.title('Rho')\n",
    "plt.legend(['Rho for Call', 'Rho for Put'])"
   ]
  },
  {
   "cell_type": "code",
   "execution_count": null,
   "id": "370517e4",
   "metadata": {},
   "outputs": [],
   "source": []
  }
 ],
 "metadata": {
  "kernelspec": {
   "display_name": "Python 3",
   "language": "python",
   "name": "python3"
  },
  "language_info": {
   "codemirror_mode": {
    "name": "ipython",
    "version": 3
   },
   "file_extension": ".py",
   "mimetype": "text/x-python",
   "name": "python",
   "nbconvert_exporter": "python",
   "pygments_lexer": "ipython3",
   "version": "3.8.8"
  }
 },
 "nbformat": 4,
 "nbformat_minor": 5
}
